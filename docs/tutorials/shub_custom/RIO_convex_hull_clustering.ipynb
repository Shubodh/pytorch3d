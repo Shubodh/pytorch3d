{
 "cells": [
  {
   "cell_type": "code",
   "execution_count": 1,
   "id": "181ac397",
   "metadata": {},
   "outputs": [
    {
     "ename": "ModuleNotFoundError",
     "evalue": "No module named 'open3d'",
     "output_type": "error",
     "traceback": [
      "\u001b[0;31m---------------------------------------------------------------------------\u001b[0m",
      "\u001b[0;31mModuleNotFoundError\u001b[0m                       Traceback (most recent call last)",
      "\u001b[0;32m<ipython-input-1-a2da04d63dac>\u001b[0m in \u001b[0;36m<module>\u001b[0;34m\u001b[0m\n\u001b[0;32m----> 1\u001b[0;31m \u001b[0;32mimport\u001b[0m \u001b[0mopen3d\u001b[0m \u001b[0;32mas\u001b[0m \u001b[0mo3d\u001b[0m\u001b[0;34m\u001b[0m\u001b[0;34m\u001b[0m\u001b[0m\n\u001b[0m\u001b[1;32m      2\u001b[0m \u001b[0;32mimport\u001b[0m \u001b[0mnumpy\u001b[0m \u001b[0;32mas\u001b[0m \u001b[0mnp\u001b[0m\u001b[0;34m\u001b[0m\u001b[0;34m\u001b[0m\u001b[0m\n\u001b[1;32m      3\u001b[0m \u001b[0;32mimport\u001b[0m \u001b[0mmatplotlib\u001b[0m\u001b[0;34m.\u001b[0m\u001b[0mpyplot\u001b[0m \u001b[0;32mas\u001b[0m \u001b[0mplt\u001b[0m\u001b[0;34m\u001b[0m\u001b[0;34m\u001b[0m\u001b[0m\n\u001b[1;32m      4\u001b[0m \u001b[0;32mimport\u001b[0m \u001b[0mcopy\u001b[0m\u001b[0;34m\u001b[0m\u001b[0;34m\u001b[0m\u001b[0m\n\u001b[1;32m      5\u001b[0m \u001b[0;32mimport\u001b[0m \u001b[0mos\u001b[0m\u001b[0;34m\u001b[0m\u001b[0;34m\u001b[0m\u001b[0m\n",
      "\u001b[0;31mModuleNotFoundError\u001b[0m: No module named 'open3d'"
     ]
    }
   ],
   "source": [
    "import open3d as o3d\n",
    "import numpy as np\n",
    "import matplotlib.pyplot as plt\n",
    "import copy\n",
    "import os\n",
    "import sys"
   ]
  },
  {
   "cell_type": "code",
   "execution_count": 2,
   "id": "5c8e5fcb",
   "metadata": {},
   "outputs": [
    {
     "name": "stdout",
     "output_type": "stream",
     "text": [
      "[Open3D INFO] Skipping non-triangle primitive geometry of type: 2\n"
     ]
    }
   ],
   "source": [
    "mesh_dir = \"/media/shubodh/DATA/Downloads/data-non-onedrive/RIO10_data/scene01/models01/seq01_01/\"\n",
    "mesh = o3d.io.read_triangle_mesh(os.path.join(mesh_dir, \"mesh.obj\"), True)\n",
    "o3d.visualization.draw_geometries([mesh])\n"
   ]
  },
  {
   "cell_type": "markdown",
   "id": "28b32ed2",
   "metadata": {},
   "source": [
    "### Convex hull"
   ]
  },
  {
   "cell_type": "code",
   "execution_count": 3,
   "id": "46a60689",
   "metadata": {},
   "outputs": [],
   "source": [
    "hull, _ = mesh.compute_convex_hull()\n",
    "hull_ls = o3d.geometry.LineSet.create_from_triangle_mesh(hull)\n",
    "hull_ls.paint_uniform_color((1, 0, 0))\n",
    "o3d.visualization.draw_geometries([mesh, hull_ls])"
   ]
  },
  {
   "cell_type": "code",
   "execution_count": 4,
   "id": "133f117d",
   "metadata": {},
   "outputs": [],
   "source": [
    "pcd_hull = o3d.geometry.PointCloud()\n",
    "pcd_hull.points = hull_ls.points\n",
    "pcd_hull.colors = o3d.utility.Vector3dVector(np.ones((np.asarray(hull_ls.points)).shape)*0)\n",
    "o3d.visualization.draw_geometries([mesh, pcd_hull])\n"
   ]
  },
  {
   "cell_type": "code",
   "execution_count": 5,
   "id": "64758417",
   "metadata": {},
   "outputs": [
    {
     "data": {
      "text/plain": [
       "(187, 3)"
      ]
     },
     "execution_count": 5,
     "metadata": {},
     "output_type": "execute_result"
    }
   ],
   "source": [
    "(np.asarray(hull_ls.points)).shape"
   ]
  },
  {
   "cell_type": "markdown",
   "id": "29980e31",
   "metadata": {},
   "source": [
    "### dbscan clustering"
   ]
  },
  {
   "cell_type": "code",
   "execution_count": 6,
   "id": "3fb1ad4f",
   "metadata": {},
   "outputs": [
    {
     "name": "stdout",
     "output_type": "stream",
     "text": [
      "[Open3D DEBUG] Precompute neighbors.\n",
      "[Open3D DEBUG] Done Precompute neighbors.\n",
      "[Open3D DEBUG] Compute Clusters\n",
      "[Open3D DEBUG] Done Compute Clusters: 19\n",
      "point cloud has 19 clusters\n"
     ]
    }
   ],
   "source": [
    "pcd = pcd_hull\n",
    "\n",
    "with o3d.utility.VerbosityContextManager(\n",
    "        o3d.utility.VerbosityLevel.Debug) as cm:\n",
    "    labels = np.array(\n",
    "        pcd.cluster_dbscan(eps=0.5, min_points=2, print_progress=True))\n",
    "\n",
    "max_label = labels.max()\n",
    "print(f\"point cloud has {max_label + 1} clusters\")\n",
    "colors = plt.get_cmap(\"tab20\")(labels / (max_label if max_label > 0 else 1))\n",
    "colors[labels < 0] = 0\n",
    "pcd.colors = o3d.utility.Vector3dVector(colors[:, :3])"
   ]
  },
  {
   "cell_type": "markdown",
   "id": "c31f629b",
   "metadata": {},
   "source": [
    "### fixing up coordinate for clusters"
   ]
  },
  {
   "cell_type": "code",
   "execution_count": 7,
   "id": "d249022a",
   "metadata": {},
   "outputs": [],
   "source": [
    "hi = (np.asarray(pcd.points))\n",
    "hi[:,2] = np.ones((hi[:,2]).shape)"
   ]
  },
  {
   "cell_type": "code",
   "execution_count": 8,
   "id": "1587500a",
   "metadata": {},
   "outputs": [],
   "source": [
    "coord_mesh = o3d.geometry.TriangleMesh.create_coordinate_frame(origin=[0, 0, 0], size=1)\n",
    "coord_pcd =  coord_mesh.sample_points_uniformly(number_of_points=500)\n"
   ]
  },
  {
   "cell_type": "code",
   "execution_count": 9,
   "id": "3320c15d",
   "metadata": {},
   "outputs": [
    {
     "data": {
      "text/plain": [
       "TriangleMesh with 762 points and 1520 triangles."
      ]
     },
     "execution_count": 9,
     "metadata": {},
     "output_type": "execute_result"
    }
   ],
   "source": [
    "sphere_mesh = o3d.geometry.TriangleMesh.create_sphere(radius=0.2)\n",
    "# sphere = sphere_mesh.sample_points_uniformly(number_of_points=500)\n",
    "# zero = (1.67-4.2)/2\n",
    "# one = (4.05 - 0.38)/2\n",
    "# two = 1\n",
    "zero, one, two = np.mean(hi, axis=0)\n",
    "sphere = copy.deepcopy(sphere_mesh).translate((zero, one, two))\n",
    "sphere.paint_uniform_color([1, 0.706, 0])"
   ]
  },
  {
   "cell_type": "code",
   "execution_count": null,
   "id": "59368c60",
   "metadata": {},
   "outputs": [],
   "source": []
  },
  {
   "cell_type": "code",
   "execution_count": 11,
   "id": "27769884",
   "metadata": {},
   "outputs": [],
   "source": [
    "o3d.visualization.draw_geometries([pcd, mesh, coord_mesh,sphere])"
   ]
  },
  {
   "cell_type": "code",
   "execution_count": null,
   "id": "c2e86a13",
   "metadata": {},
   "outputs": [],
   "source": []
  },
  {
   "cell_type": "code",
   "execution_count": null,
   "id": "b26cfeb0",
   "metadata": {},
   "outputs": [],
   "source": []
  }
 ],
 "metadata": {
  "kernelspec": {
   "display_name": "Python 3",
   "language": "python",
   "name": "python3"
  },
  "language_info": {
   "codemirror_mode": {
    "name": "ipython",
    "version": 3
   },
   "file_extension": ".py",
   "mimetype": "text/x-python",
   "name": "python",
   "nbconvert_exporter": "python",
   "pygments_lexer": "ipython3",
   "version": "3.9.7"
  }
 },
 "nbformat": 4,
 "nbformat_minor": 5
}
